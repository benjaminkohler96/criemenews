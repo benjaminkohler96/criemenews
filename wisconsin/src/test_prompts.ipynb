{
 "cells": [
  {
   "cell_type": "code",
   "execution_count": 1,
   "metadata": {},
   "outputs": [],
   "source": [
    "%load_ext autoreload\n",
    "%autoreload 2"
   ]
  },
  {
   "cell_type": "code",
   "execution_count": 2,
   "metadata": {},
   "outputs": [],
   "source": [
    "from gpt_prompting import GPTApiHelper\n",
    "from pydantic import BaseModel\n",
    "import pandas as pd\n",
    "import base64\n",
    "import json\n",
    "\n",
    "from tooldantic import ToolBaseModel, OpenAiResponseFormatGenerator\n",
    "from tooldantic import OpenAiResponseFormatBaseModel as BaseModel\n"
   ]
  },
  {
   "cell_type": "code",
   "execution_count": 7,
   "metadata": {},
   "outputs": [],
   "source": [
    "api = GPTApiHelper()"
   ]
  },
  {
   "cell_type": "code",
   "execution_count": 4,
   "metadata": {},
   "outputs": [],
   "source": [
    "class Newsclassification(BaseModel):\n",
    "    is_crime_news: bool\n",
    "    perpetrator_name: str\n",
    "    victim_name: str\n",
    "    state: str"
   ]
  },
  {
   "cell_type": "code",
   "execution_count": 5,
   "metadata": {},
   "outputs": [
    {
     "data": {
      "text/plain": [
       "{'type': 'json_schema',\n",
       " 'json_schema': {'name': 'Newsclassification',\n",
       "  'description': '',\n",
       "  'strict': True,\n",
       "  'schema': {'type': 'object',\n",
       "   'properties': {'is_crime_news': {'type': 'boolean'},\n",
       "    'perpetrator_name': {'type': 'string'},\n",
       "    'victim_name': {'type': 'string'},\n",
       "    'state': {'type': 'string'}},\n",
       "   'required': ['is_crime_news', 'perpetrator_name', 'victim_name', 'state'],\n",
       "   'additionalProperties': False}}}"
      ]
     },
     "execution_count": 5,
     "metadata": {},
     "output_type": "execute_result"
    }
   ],
   "source": [
    "Newsclassification.model_json_schema()"
   ]
  },
  {
   "cell_type": "code",
   "execution_count": 29,
   "metadata": {},
   "outputs": [],
   "source": [
    "sample = pd.read_csv('../data/test_sample_crime.csv')\n"
   ]
  },
  {
   "cell_type": "code",
   "execution_count": 30,
   "metadata": {},
   "outputs": [],
   "source": [
    "# shuffle the sample\n",
    "\n",
    "sample = sample.sample(frac=1,random_state=1).reset_index(drop=True)"
   ]
  },
  {
   "cell_type": "code",
   "execution_count": 31,
   "metadata": {},
   "outputs": [
    {
     "data": {
      "text/html": [
       "<div>\n",
       "<style scoped>\n",
       "    .dataframe tbody tr th:only-of-type {\n",
       "        vertical-align: middle;\n",
       "    }\n",
       "\n",
       "    .dataframe tbody tr th {\n",
       "        vertical-align: top;\n",
       "    }\n",
       "\n",
       "    .dataframe thead th {\n",
       "        text-align: right;\n",
       "    }\n",
       "</style>\n",
       "<table border=\"1\" class=\"dataframe\">\n",
       "  <thead>\n",
       "    <tr style=\"text-align: right;\">\n",
       "      <th></th>\n",
       "      <th>summary</th>\n",
       "      <th>index</th>\n",
       "      <th>is_crime</th>\n",
       "    </tr>\n",
       "  </thead>\n",
       "  <tbody>\n",
       "    <tr>\n",
       "      <th>0</th>\n",
       "      <td>Since the Portage Police Department upgraded i...</td>\n",
       "      <td>104986</td>\n",
       "      <td>False</td>\n",
       "    </tr>\n",
       "    <tr>\n",
       "      <th>1</th>\n",
       "      <td>Editor's note: This story originally published...</td>\n",
       "      <td>1045833</td>\n",
       "      <td>False</td>\n",
       "    </tr>\n",
       "    <tr>\n",
       "      <th>2</th>\n",
       "      <td>These are Khris Middleton's greatest playoff p...</td>\n",
       "      <td>13185</td>\n",
       "      <td>False</td>\n",
       "    </tr>\n",
       "    <tr>\n",
       "      <th>3</th>\n",
       "      <td>Aug. 14, 2021 evening weather update for Kenos...</td>\n",
       "      <td>41670</td>\n",
       "      <td>False</td>\n",
       "    </tr>\n",
       "    <tr>\n",
       "      <th>4</th>\n",
       "      <td>SHEBOYGAN - Even if you're lucky enough to get...</td>\n",
       "      <td>74563</td>\n",
       "      <td>False</td>\n",
       "    </tr>\n",
       "    <tr>\n",
       "      <th>...</th>\n",
       "      <td>...</td>\n",
       "      <td>...</td>\n",
       "      <td>...</td>\n",
       "    </tr>\n",
       "    <tr>\n",
       "      <th>107</th>\n",
       "      <td>A man was arrested after a gun was fired in El...</td>\n",
       "      <td>402709</td>\n",
       "      <td>True</td>\n",
       "    </tr>\n",
       "    <tr>\n",
       "      <th>108</th>\n",
       "      <td>Expand\\n\\nThe nationwide power outages in Vene...</td>\n",
       "      <td>725557</td>\n",
       "      <td>False</td>\n",
       "    </tr>\n",
       "    <tr>\n",
       "      <th>109</th>\n",
       "      <td>A 26-year-old man was arrested after destroyin...</td>\n",
       "      <td>913022</td>\n",
       "      <td>True</td>\n",
       "    </tr>\n",
       "    <tr>\n",
       "      <th>110</th>\n",
       "      <td>1. Kentucky voters set stage for biggest gover...</td>\n",
       "      <td>113445</td>\n",
       "      <td>False</td>\n",
       "    </tr>\n",
       "    <tr>\n",
       "      <th>111</th>\n",
       "      <td>Country\\n\\nUnited States of America US Virgin ...</td>\n",
       "      <td>950900</td>\n",
       "      <td>False</td>\n",
       "    </tr>\n",
       "  </tbody>\n",
       "</table>\n",
       "<p>112 rows × 3 columns</p>\n",
       "</div>"
      ],
      "text/plain": [
       "                                               summary    index  is_crime\n",
       "0    Since the Portage Police Department upgraded i...   104986     False\n",
       "1    Editor's note: This story originally published...  1045833     False\n",
       "2    These are Khris Middleton's greatest playoff p...    13185     False\n",
       "3    Aug. 14, 2021 evening weather update for Kenos...    41670     False\n",
       "4    SHEBOYGAN - Even if you're lucky enough to get...    74563     False\n",
       "..                                                 ...      ...       ...\n",
       "107  A man was arrested after a gun was fired in El...   402709      True\n",
       "108  Expand\\n\\nThe nationwide power outages in Vene...   725557     False\n",
       "109  A 26-year-old man was arrested after destroyin...   913022      True\n",
       "110  1. Kentucky voters set stage for biggest gover...   113445     False\n",
       "111  Country\\n\\nUnited States of America US Virgin ...   950900     False\n",
       "\n",
       "[112 rows x 3 columns]"
      ]
     },
     "execution_count": 31,
     "metadata": {},
     "output_type": "execute_result"
    }
   ],
   "source": [
    "sample"
   ]
  },
  {
   "cell_type": "code",
   "execution_count": 35,
   "metadata": {},
   "outputs": [],
   "source": [
    "messages = [\n",
    "    {\"role\": \"system\",\n",
    "     \"content\":  \"\"\"You are an honest classifier. \n",
    "     You receive a news excerpt in the user prompt. You should classify if the news is related to a crime or criminal case or not. \n",
    "     You should classify the news positively if it is explicetly about a crime taking place or a criminal case as the main topic. \n",
    "     You should classify negatively if the text generally mentions crime e.g., in political discussions or if it mentions problematic behavior that does not constitute a crime.\n",
    "    If it is a crime news, you should also extract the name of the perpetrator and the victim if it is mentioned and set the respective field to None otherwise.\n",
    "    If the state where the crime took place is explicitely mentioned, you should also extract it and set the respective field to None otherwise.\n",
    "     Please return for each user prompt an output in the custom Newsclassification format which is inherited from Pydantics Basemodel.\"\"\"},\n",
    "]\n"
   ]
  },
  {
   "cell_type": "code",
   "execution_count": 40,
   "metadata": {},
   "outputs": [
    {
     "data": {
      "text/plain": [
       "{'type': 'json_schema',\n",
       " 'json_schema': {'name': 'Newsclassification',\n",
       "  'description': '',\n",
       "  'strict': True,\n",
       "  'schema': {'type': 'object',\n",
       "   'properties': {'is_crime_news': {'type': 'boolean'},\n",
       "    'perpetrator_name': {'type': 'string', 'default': None},\n",
       "    'victim_name': {'type': 'string', 'default': None},\n",
       "    'state': {'type': 'string', 'default': None}},\n",
       "   'required': ['is_crime_news', 'perpetrator_name', 'victim_name', 'state'],\n",
       "   'additionalProperties': False}}}"
      ]
     },
     "execution_count": 40,
     "metadata": {},
     "output_type": "execute_result"
    }
   ],
   "source": [
    "Newsclassification"
   ]
  },
  {
   "cell_type": "code",
   "execution_count": 94,
   "metadata": {},
   "outputs": [
    {
     "name": "stderr",
     "output_type": "stream",
     "text": [
      "INFO:httpx:HTTP Request: POST https://api.openai.com/v1/chat/completions \"HTTP/1.1 200 OK\"\n",
      "INFO:httpx:HTTP Request: POST https://api.openai.com/v1/chat/completions \"HTTP/1.1 200 OK\"\n",
      "INFO:httpx:HTTP Request: POST https://api.openai.com/v1/chat/completions \"HTTP/1.1 200 OK\"\n",
      "INFO:httpx:HTTP Request: POST https://api.openai.com/v1/chat/completions \"HTTP/1.1 200 OK\"\n",
      "INFO:httpx:HTTP Request: POST https://api.openai.com/v1/chat/completions \"HTTP/1.1 200 OK\"\n",
      "INFO:httpx:HTTP Request: POST https://api.openai.com/v1/chat/completions \"HTTP/1.1 200 OK\"\n",
      "INFO:httpx:HTTP Request: POST https://api.openai.com/v1/chat/completions \"HTTP/1.1 200 OK\"\n",
      "INFO:httpx:HTTP Request: POST https://api.openai.com/v1/chat/completions \"HTTP/1.1 200 OK\"\n",
      "INFO:httpx:HTTP Request: POST https://api.openai.com/v1/chat/completions \"HTTP/1.1 200 OK\"\n",
      "INFO:httpx:HTTP Request: POST https://api.openai.com/v1/chat/completions \"HTTP/1.1 200 OK\"\n"
     ]
    }
   ],
   "source": [
    "responses = []\n",
    "for i, row in sample[:10].iterrows():\n",
    "    message_ = {\"role\": \"user\",\n",
    "               \"content\": row['summary']}\n",
    "    messages_ = messages + [message_]\n",
    "    try:\n",
    "        response = api.make_request_structured(messages_, schema=Newsclassification.model_json_schema())\n",
    "        responses.append(response)\n",
    "    except Exception as e:\n",
    "        print(e)\n",
    "        response = None\n",
    "        responses.append(response)\n",
    "        continue\n"
   ]
  },
  {
   "cell_type": "code",
   "execution_count": 149,
   "metadata": {},
   "outputs": [
    {
     "data": {
      "text/plain": [
       "112"
      ]
     },
     "execution_count": 149,
     "metadata": {},
     "output_type": "execute_result"
    }
   ],
   "source": [
    "len(responses)"
   ]
  },
  {
   "cell_type": "code",
   "execution_count": 95,
   "metadata": {},
   "outputs": [],
   "source": [
    "results = [r.choices[0].message.parsed if r is not None else None for r in responses ] "
   ]
  },
  {
   "cell_type": "code",
   "execution_count": 101,
   "metadata": {},
   "outputs": [
    {
     "data": {
      "text/plain": [
       "'{\"is_crime_news\":false,\"perpetrator_name\":\"\" ,\"victim_name\":\"\" ,\"state\":\"\"}'"
      ]
     },
     "execution_count": 101,
     "metadata": {},
     "output_type": "execute_result"
    }
   ],
   "source": [
    "responses[0].choices[0].message.content"
   ]
  },
  {
   "cell_type": "code",
   "execution_count": 151,
   "metadata": {},
   "outputs": [],
   "source": [
    "sample['is_crime_news'] = [r.is_crime_news if r.is_crime_news is not None else None for r in results ]\n",
    "sample['perpetrator_name'] = [r.perpetrator_name if r.perpetrator_name is not None else None for r in results ]\n",
    "sample['victim_name'] = [r.victim_name if r.victim_name is not None else None for r in results ]\n",
    "sample['city'] = [r.city if r.city is not None else None for r in results ]\n",
    "sample['state'] = [r.state if r.state is not None else None for r in results ]\n",
    "sample['county'] = [r.county if r.county is not None else None for r in results ]"
   ]
  },
  {
   "cell_type": "code",
   "execution_count": 153,
   "metadata": {},
   "outputs": [],
   "source": [
    "sample.to_csv('../data/sample_crime_results.csv', index=False)"
   ]
  },
  {
   "cell_type": "code",
   "execution_count": 156,
   "metadata": {},
   "outputs": [],
   "source": [
    "accuracy = sample['is_crime_news'].eq(sample['is_crime']).mean()\n",
    "false_positive_rate = sample[(sample['is_crime_news'] == True) & (sample['is_crime'] == False)].shape[0] / sample[sample['is_crime_news'] == True].shape[0]\n",
    "false_negative_rate = sample[(sample['is_crime_news'] == False) & (sample['is_crime'] == True)].shape[0] / sample[sample['is_crime_news'] == False].shape[0]"
   ]
  },
  {
   "cell_type": "code",
   "execution_count": 157,
   "metadata": {},
   "outputs": [
    {
     "name": "stdout",
     "output_type": "stream",
     "text": [
      "Accuracy: 0.9196428571428571, False Positive Rate: 0.24324324324324326, False Negative Rate: 0.0\n"
     ]
    }
   ],
   "source": [
    "print(f'Accuracy: {accuracy}, False Positive Rate: {false_positive_rate}, False Negative Rate: {false_negative_rate}')"
   ]
  },
  {
   "cell_type": "code",
   "execution_count": 117,
   "metadata": {},
   "outputs": [
    {
     "name": "stdout",
     "output_type": "stream",
     "text": [
      "Skip to content The New York Daily News Logo 1989 Exxon Valdez oil spill On Mar. 24, 1989, nearly 11 million gallons of crude oil gushed out of the Exxon Valdez oil tanker off the coast of Alaska. Take a look back at what was the largest oil spill in U.S. history at the time on the 33rd anniversary of the disaster. Tugboats hold the tanker Exxon Baton Rouge, right, up against the tanker Exxon Valdez as oil is pumped out of the damaged tanker that ran aground 25 miles from Valdez, Alaska, on Mar. 24, 1989, spilling over 270,000 barrels of crude oil. (Jack Smith/AP) A rescued sea otter is restrained and washed by workers at a local animal facility after five of the oil-covered mammals were captured in the fouled waters of Prince William Sound, Alaska, April 18, 1989. The list of animals injured and killed from the spill of the oil tanker Exxon Valdez includes sea otters, deer, eagles, owls and a host of other waterfowl gathered up by rescue workers. (John Gaps III/AP) Crude oil from the tanker Exxon Valdez, top, swirls on the surface of Alaska's Prince William Sound near Naked Island Saturday, April 9, 1989, 16 days after the tanker ran aground, spilling millions of gallons of oil and causing widespread environmental damage. (John Gaps III/AP) Bill Scheer, of Valdez, Alaska, is covered in crude oil while working on a beach fowled by the spill of the tanker Exxon Valdez at Prince William Sound on April 13, 1989. Efforts to clean the 10.9 million gallons of crude oil continue. (John Gaps III/AP) Boats and sorbent booms circle the Exxon Valdez oil spill in Prince William Sound, Alaska, in an attempt to control the spreading oil slicks. (Natalie Fobes/Corbis via Getty Images) Cordova fisherman John Thomas carries an oil-soaked sea bird at the bird rescue center in Valdez, Alaska more a week after the disastrous oil spill. (Chris Wilkins/AFP/Getty Images) The Exxon Baton Rouge (smaller ship on the left) attempts to offload crude oil from the Exxon Valdez in Prince William Sound, Alaska on Mar. 26, 1989. The ship ran aground spilling more than 270,000 barrels of crude oil into the water. At the time, experts called it the worst oil spill in the U.S. ever. (AP) One baby and five adult oil-soaked sea otters lie dead on Green Island beach on April 3, 1989, on Prince William Sound near Valdez more than a week after the Exxon Valdez oil spill. (Chris Wilkins/AFP/Getty Images) A worker makes his way across the polluted shore of Block Island, Alaska on Sunday, April 17, 1989, as efforts are underway to test techniques to clean up the oil spill of the tanker Exxon Valdez in Prince William Sound. The worker periodically uses the bucket to scoop up oil washing back onto shore from the containment booms. (JOHN GAPS III/John Gaps III/AP) Steve Provant, Alaska Department of Environmental Conversation's on-scene cleanup coordinator, examines oily rocks on Green Island, June 25, 1989, in Prince William Sound. The Coast Guard, which is overseeing Exxon's cleanup effort, signed off on this section of beach declaring crews had \"completed removal of gross contamination.\" But the oil is back. (Jack Smith/AP) High winds on Prince William Sound push crude oil up into an inlet on Squire Island, Alaska, April 10, 1989. The massive oil spill from Exxon Valdez continues to contaminate the Sound after the tanker ran aground March 24. (John Gaps III/AP) A dead gray whale lies on the beach of Kodiak Island, Alaska after the Exxon Valdez oil spill on Mar. 24, 1989. (Natalie Fobes/Corbis via Getty Images) Salmon fry, held in the square pools, are protected from crude oil by a series of containment booms in Sawmill Bay, Prince William Sound, Alaska, on April 14, 1989. Originally the fish were to be released later this month, but with oil from the spill of the Exxon Valdez still in these southern Alaska waters, it is now uncertain when and where they will go. (John Gaps III/AP) Workers test a mild chemical oil dispersant on a beach contaminated by the Exxon spill in Anchorage, Alaska on Thursday, May 18, 1989. After hot water containing the dispersant was sprayed for an hour, heavy oil began slipping off of rocks and pooling in the water at the edge of the beach. (Clare Richardson/AP) The Exxon Valdez is pictured being towed out of Prince William Sound in Alaska by a tug boat and a U.S. Coast Guard Cutter in this June 23, 1989 photo. Exxon Corp. wants the Exxon Valdez to again navigate the Alaska shores it fouled with millions of gallons of crude oil. Some Alaskans are outraged. (Al Grillo/AP) Above the grimy surface of Prime William Sound, a boat used to ferry beach cleanup workers to and from their work is launched from the shore of Naked Island in Alaska, on Wednesday, April 13, 1989. Below the surface, viewed through a watertight glass box, environmentalists say it may be years before the full effect of the nation's worst oil spill on underwater plants and wildlife can be fully known in these southern Alaska waters. (John Gaps III/AP) An oil-covered bird is examined on an island in Prince William Sound, Alaska in April 1989. A massive oil spill resulted after the tanker Exxon Valdez ran aground about 25 miles from Valdez, Alaska. (Jack Smith/AP) Cleanup workers spray water on the beach of Block Island, in Prince William Sound, Alaska, on Sunday, April 17, 1989, during a demonstration of techniques to wash crude oil off the shore, which continues to foul the environment of these southern Alaska waters. (John Gaps III/AP) Troy Adamson, left, and Nicolette Heaphy clean a cormorant that had been covered in oil at the bird cleaning center in Valdez, Alaska, on April 4, 1989. Birds and other animals have been covered in oil as a result of the massive spill from the tanker Exxon Valdez that ran aground in Prince William Sound on March 24. (Rob Stapleton/AP) Sea Lions get oil on them as they swim in the water and sit on the rock at Prince William Sound, Alaska, on Sunday, April 2, 1989. They are about 50 miles from the grounded tanker Exxon Valdez that ran aground March 24, spilling more than 10 million gallons of oil. (Jack Smith/AP) Workmen, covered in oil, shovel oil-covered rocks from the waters edge on Smith Island in Prince William Sound, Alaska, on Thursday, Mar. 31, 1989. An Exxon Valdez crude oil tanker ran aground about 50 miles from Smith Island on March 24. (Jack Smith/AP) Bruce Wright, a biologist with the National Marine Fisheries Service Oil Spill Restoration Office, looks at a pink salmon as it swims up a stream at Sleepy Bay on Latouche Island in Prince Williams Sound, Alaska, on Sept. 14, 1998 photo. State officials say pink salmon have not yet recovered from the effects of the Exxon Valdez oil spill 10 years ago. (Al Grillo/AP) Crews use high pressured hoses to blast the rocks on this beachfront on Naked Island, Alaska, April 21, 1989. This is one of only two beaches that are being worked on, of the 58 beaches in the Prince William Sound. On March 24, the crude oil tanker Exxon Valdez grounded on a reef and spilled nearly 11 million gallons of oil in the water. (Rob Stapleton/AP) A cleanup worker rakes through crude oil, contained by floating booms off the waters of Prince William Sound, Alaska, on April 16, 1989. The oil, contained here in Snug Harbor off Knight Island, was later sucked off the water by a U.S. Coast Guard skimmer. (John Gaps III/AP) Boats move through Sawmill Bay trailing sorbent boom to prevent further oil leakage following the Exxon Valdez oil spill on Mar. 24, 1989 in Alaska. (Natalie Fobes/Corbis via Getty Images) A pair of oil-covered gloves lie on a log on Smith Island, Alaska after the Exxon Valdez oil tanker ran aground and spilled almost 11 million gallons of crude oil on Mar. 24, 1989. (Natalie Fobes/Corbis via Getty Images) Still tied to the Exxon Valdez, (R), the tanker Exxon San Francisco pumps the remaining oil from the Valdez's hull on April 1, 1989. (Bettmann Archive/Getty Images) An oil cleanup worker walks through the oily surf at Naked Island on Prince William Sound on April 2, 1989, as beach cleanup goes on in the background, a week after the Exxon Valdez oil spill. (Chris Wilkins/AFP/Getty Images) A view of the Alaskan Indian village of Tatitlek on Mar. 26, 1989, two days after the tanker Exxon Valdez ran aground and spilled almost 11 million gallons of crude oil into Prince William Sound off Alaska. Tatitlek's fishing industry was badly threatened by the oil spill. (Chris Wilkins/AFP/Getty Images) Alice Berkner (R) and Jessica Porter (C) of International Bird Rescue Project, hold an oil-soaked loon as Terri McKim, of United Animal Nations, pours water to rinse the bird at the bird rescue center in Valdez on April 1, 1989. (Chris Wilkins/AFP/Getty Images) This letter signed by L. G. Rawl, the chairman of US petroleum giant Exxon Corporation, was published in several US daily newspapers on April 3, 1989, following criticism by Alaskan fishermen and others of the way Exxon has handled the cleanup of the oil spill in Prince William Sound near Valdez. The tanker Exxon Valdez hit a submerged reef and lost 11 million gallons of crude oil into the waters of the Sound on Mar. 24, 1989. (AFP/Getty Images) Tugboats tow the oil tanker Exxon Valdez off Bligh Reef in Prince William Sound to a harbor near Naked Island for repair and salvage efforts two weeks after it spilled over 10 million gallons of crude oil into the water. (Chris Wilkins/AFP/Getty Images)\n"
     ]
    }
   ],
   "source": [
    "print(sample.iloc[24].summary)"
   ]
  },
  {
   "cell_type": "code",
   "execution_count": 154,
   "metadata": {},
   "outputs": [
    {
     "data": {
      "text/plain": [
       "0.03686"
      ]
     },
     "execution_count": 154,
     "metadata": {},
     "output_type": "execute_result"
    }
   ],
   "source": [
    "api.estimate_cost()"
   ]
  },
  {
   "cell_type": "markdown",
   "metadata": {},
   "source": [
    "# push to bash api \n",
    "\n"
   ]
  },
  {
   "cell_type": "code",
   "execution_count": 6,
   "metadata": {},
   "outputs": [],
   "source": [
    "news_sample_20k = pd.read_csv('../data/news_wisconsin_sample_20k.csv')"
   ]
  },
  {
   "cell_type": "code",
   "execution_count": 8,
   "metadata": {},
   "outputs": [],
   "source": [
    "news_sample_20k[\"excerpt_summary\"] = news_sample_20k[\"excerpt\"].fillna(\"\") + \" \\n \" + news_sample_20k[\"summary\"].fillna(\"\")"
   ]
  },
  {
   "cell_type": "code",
   "execution_count": 9,
   "metadata": {},
   "outputs": [],
   "source": [
    "system_message = [\n",
    "    {\"role\": \"system\",\n",
    "     \"content\":  \"\"\"You are an honest classifier. \n",
    "     You receive a news excerpt in the user prompt. You should classify if the news is related to a crime or criminal case or not. \n",
    "     You should classify the news positively if it is explicetly about a crime taking place or a criminal case as the main topic. \n",
    "     You should classify negatively if the text generally mentions crime e.g., in political discussions or if it mentions problematic behavior that does not constitute a crime.\n",
    "    If it is a crime news, you should also extract the name of the perpetrator and the victim if it is mentioned and set the respective field to None otherwise.\n",
    "    If the state where the crime took place is explicitely mentioned, you should also extract it and set the respective field to None otherwise.\n",
    "     Please return for each user prompt an output in the custom Newsclassification format which is inherited from Pydantics Basemodel.\"\"\"},\n",
    "]\n"
   ]
  },
  {
   "cell_type": "code",
   "execution_count": 10,
   "metadata": {},
   "outputs": [],
   "source": [
    "class Newsclassification(BaseModel):\n",
    "    is_crime_news: bool\n",
    "    perpetrator_name: str\n",
    "    victim_name: str\n",
    "    state: str"
   ]
  },
  {
   "cell_type": "code",
   "execution_count": 70,
   "metadata": {},
   "outputs": [
    {
     "data": {
      "text/plain": [
       "{'type': 'json_schema',\n",
       " 'json_schema': {'name': 'Newsclassification',\n",
       "  'description': '',\n",
       "  'strict': True,\n",
       "  'schema': {'type': 'object',\n",
       "   'properties': {'is_crime_news': {'type': 'boolean'},\n",
       "    'perpetrator_name': {'type': 'string'},\n",
       "    'victim_name': {'type': 'string'},\n",
       "    'state': {'type': 'string'}},\n",
       "   'required': ['is_crime_news', 'perpetrator_name', 'victim_name', 'state'],\n",
       "   'additionalProperties': False}}}"
      ]
     },
     "execution_count": 70,
     "metadata": {},
     "output_type": "execute_result"
    }
   ],
   "source": [
    "Newsclassification.schema()"
   ]
  },
  {
   "cell_type": "code",
   "execution_count": 12,
   "metadata": {},
   "outputs": [],
   "source": [
    "prompts_list = []\n",
    "for i, row in news_sample_20k.iterrows():\n",
    "    user_messsage = {\"role\": \"user\",\n",
    "               \"content\": row['excerpt_summary']}\n",
    "    prompt = system_message + [user_messsage]\n",
    "    prompts_list.append(prompt)\n",
    "\n"
   ]
  },
  {
   "cell_type": "code",
   "execution_count": 18,
   "metadata": {},
   "outputs": [],
   "source": [
    "jsonl = api.create_jsonl(prompts_list, schema=Newsclassification, custom_id_prefix=\"news_wisconsin_sample_2019_20k_\")\n"
   ]
  },
  {
   "cell_type": "code",
   "execution_count": 52,
   "metadata": {},
   "outputs": [
    {
     "data": {
      "text/plain": [
       "__main__.Newsclassification"
      ]
     },
     "execution_count": 52,
     "metadata": {},
     "output_type": "execute_result"
    }
   ],
   "source": [
    "jsonl[0][\"body\"][\"response_format\"]"
   ]
  },
  {
   "cell_type": "code",
   "execution_count": 20,
   "metadata": {},
   "outputs": [],
   "source": [
    "# save jsonl as .jsonl file\n",
    "\n",
    "with open('../data/news_wisconsin_sample_2019_20k.jsonl', 'w') as jsonl_file:\n",
    "    for item in jsonl:\n",
    "        # Convert each dictionary to a JSON string and write it as a new line\n",
    "        jsonl_file.write(json.dumps(item) + '\\n')\n"
   ]
  },
  {
   "cell_type": "code",
   "execution_count": 21,
   "metadata": {},
   "outputs": [],
   "source": [
    "with open('../data/news_wisconsin_sample_2019_20k.jsonl', 'rb') as jsonl_file:\n",
    "    jsonl = [json.loads(line) for line in jsonl_file]\n",
    "\n"
   ]
  },
  {
   "cell_type": "code",
   "execution_count": 22,
   "metadata": {},
   "outputs": [
    {
     "data": {
      "text/plain": [
       "20000"
      ]
     },
     "execution_count": 22,
     "metadata": {},
     "output_type": "execute_result"
    }
   ],
   "source": [
    "len(jsonl)"
   ]
  },
  {
   "cell_type": "code",
   "execution_count": 23,
   "metadata": {},
   "outputs": [
    {
     "name": "stderr",
     "output_type": "stream",
     "text": [
      "INFO:httpx:HTTP Request: POST https://api.openai.com/v1/files \"HTTP/1.1 200 OK\"\n"
     ]
    }
   ],
   "source": [
    "upload_res = api.upload_jsonl('../data/news_wisconsin_sample_2019_20k.jsonl')"
   ]
  },
  {
   "cell_type": "code",
   "execution_count": 27,
   "metadata": {},
   "outputs": [
    {
     "data": {
      "text/plain": [
       "'file-UsGxzPWMckr8hlIUNMBH2iKz'"
      ]
     },
     "execution_count": 27,
     "metadata": {},
     "output_type": "execute_result"
    }
   ],
   "source": []
  },
  {
   "cell_type": "code",
   "execution_count": 29,
   "metadata": {},
   "outputs": [
    {
     "name": "stderr",
     "output_type": "stream",
     "text": [
      "INFO:httpx:HTTP Request: POST https://api.openai.com/v1/batches \"HTTP/1.1 200 OK\"\n"
     ]
    }
   ],
   "source": [
    "start_bash_res = api.create_batch(upload_res.id, \"first 20k news wisconsin sample 2019\")"
   ]
  },
  {
   "cell_type": "code",
   "execution_count": 32,
   "metadata": {},
   "outputs": [
    {
     "data": {
      "text/plain": [
       "'batch_671fb42025048190934d79e68a0d2c20'"
      ]
     },
     "execution_count": 32,
     "metadata": {},
     "output_type": "execute_result"
    }
   ],
   "source": [
    "start_bash_res.id"
   ]
  },
  {
   "cell_type": "code",
   "execution_count": 33,
   "metadata": {},
   "outputs": [
    {
     "name": "stderr",
     "output_type": "stream",
     "text": [
      "INFO:httpx:HTTP Request: GET https://api.openai.com/v1/batches/batch_671fb42025048190934d79e68a0d2c20 \"HTTP/1.1 200 OK\"\n"
     ]
    },
    {
     "data": {
      "text/plain": [
       "Batch(id='batch_671fb42025048190934d79e68a0d2c20', completion_window='24h', created_at=1730130976, endpoint='/v1/chat/completions', input_file_id='file-UsGxzPWMckr8hlIUNMBH2iKz', object='batch', status='in_progress', cancelled_at=None, cancelling_at=None, completed_at=None, error_file_id=None, errors=None, expired_at=None, expires_at=1730217376, failed_at=None, finalizing_at=None, in_progress_at=1730130989, metadata={'description': 'first 20k news wisconsin sample 2019'}, output_file_id=None, request_counts=BatchRequestCounts(completed=0, failed=0, total=20000))"
      ]
     },
     "execution_count": 33,
     "metadata": {},
     "output_type": "execute_result"
    }
   ],
   "source": [
    "api.check_batch_status(start_bash_res.id)"
   ]
  },
  {
   "cell_type": "code",
   "execution_count": 111,
   "metadata": {},
   "outputs": [
    {
     "name": "stderr",
     "output_type": "stream",
     "text": [
      "INFO:httpx:HTTP Request: GET https://api.openai.com/v1/files/file-gxbMN0aMnFgcPDTf5Zrzm8RN/content \"HTTP/1.1 200 OK\"\n"
     ]
    },
    {
     "data": {
      "text/plain": [
       "<openai._legacy_response.HttpxBinaryResponseContent at 0x10ca284d0>"
      ]
     },
     "execution_count": 111,
     "metadata": {},
     "output_type": "execute_result"
    }
   ],
   "source": [
    "api.get_file_content(\"file-gxbMN0aMnFgcPDTf5Zrzm8RN\")"
   ]
  },
  {
   "cell_type": "markdown",
   "metadata": {},
   "source": [
    "# Check status"
   ]
  },
  {
   "cell_type": "code",
   "execution_count": 22,
   "metadata": {},
   "outputs": [
    {
     "name": "stderr",
     "output_type": "stream",
     "text": [
      "INFO:httpx:HTTP Request: GET https://api.openai.com/v1/batches/batch_671fb42025048190934d79e68a0d2c20 \"HTTP/1.1 200 OK\"\n",
      "INFO:httpx:HTTP Request: GET https://api.openai.com/v1/files/file-eV10NS7mumsmtjNXgrVmwRff/content \"HTTP/1.1 200 OK\"\n"
     ]
    }
   ],
   "source": [
    "batch_result = api.get_file_content(api.check_batch_status(\"batch_671fb42025048190934d79e68a0d2c20\").output_file_id)"
   ]
  },
  {
   "cell_type": "code",
   "execution_count": 23,
   "metadata": {},
   "outputs": [],
   "source": [
    "with open('../data/news_wisconsin_sample_2019_20k_results_p1.jsonl', 'w') as jsonl_file:\n",
    "    jsonl_file.write(batch_result.text)"
   ]
  },
  {
   "cell_type": "code",
   "execution_count": null,
   "metadata": {},
   "outputs": [],
   "source": [
    "with open('../data/news_wisconsin_sample_2019_20k_results_p1.jsonl', 'rb') as jsonl_file:\n",
    "    jsonl = [json.loads(line) for line in jsonl_file]\n",
    "\n",
    "    "
   ]
  },
  {
   "cell_type": "code",
   "execution_count": 46,
   "metadata": {},
   "outputs": [
    {
     "data": {
      "text/plain": [
       "'{\"is_crime_news\":false,\"perpetrator_name\":\"\" ,\"victim_name\":\"\" ,\"state\":\"\"}'"
      ]
     },
     "execution_count": 46,
     "metadata": {},
     "output_type": "execute_result"
    }
   ],
   "source": [
    "jsonl[0][\"response\"][\"body\"][\"choices\"][0][\"message\"][\"content\"]"
   ]
  },
  {
   "cell_type": "code",
   "execution_count": 54,
   "metadata": {},
   "outputs": [],
   "source": [
    "res_df = api.convert_response_list(jsonl)"
   ]
  },
  {
   "cell_type": "code",
   "execution_count": 101,
   "metadata": {},
   "outputs": [
    {
     "data": {
      "text/plain": [
       "(np.float64(0.2128),\n",
       " np.float64(0.8149),\n",
       " np.float64(0.84965),\n",
       " np.float64(0.6713))"
      ]
     },
     "execution_count": 101,
     "metadata": {},
     "output_type": "execute_result"
    }
   ],
   "source": [
    "res_df.is_crime_news.mean(), res_df.perpetrator_name.isna().mean(), res_df.victim_name.isna().mean(), res_df.state.isna().mean()"
   ]
  },
  {
   "cell_type": "code",
   "execution_count": 114,
   "metadata": {},
   "outputs": [
    {
     "data": {
      "text/plain": [
       "np.float64(0.3094454887218045)"
      ]
     },
     "execution_count": 114,
     "metadata": {},
     "output_type": "execute_result"
    }
   ],
   "source": [
    "(res_df[res_df.is_crime_news].state == \"Wisconsin\").mean()"
   ]
  },
  {
   "cell_type": "code",
   "execution_count": 68,
   "metadata": {},
   "outputs": [
    {
     "data": {
      "text/plain": [
       "1.44708"
      ]
     },
     "execution_count": 68,
     "metadata": {},
     "output_type": "execute_result"
    }
   ],
   "source": [
    "api.estimate_cost(jsonl, is_batch=True)"
   ]
  },
  {
   "cell_type": "markdown",
   "metadata": {},
   "source": [
    "# Try to match with Wisoncion data\n"
   ]
  },
  {
   "cell_type": "code",
   "execution_count": 80,
   "metadata": {},
   "outputs": [],
   "source": [
    "names_df = pd.read_csv('../data/names_def_2015_2019.csv')"
   ]
  },
  {
   "cell_type": "code",
   "execution_count": 82,
   "metadata": {},
   "outputs": [],
   "source": [
    "res_df[\"perpetrator_last_name\"]= res_df[\"perpetrator_name\"].str.split(\" \").str[-1]\n",
    "res_df[\"perpetrator_first_name\"]= res_df[\"perpetrator_name\"].str.split(\" \").str[0]"
   ]
  },
  {
   "cell_type": "code",
   "execution_count": null,
   "metadata": {},
   "outputs": [],
   "source": [
    "res_df.reset_index(inplace=True)\n",
    "res_df.rename(columns={\"index\": \"id\"}, inplace=True)"
   ]
  },
  {
   "cell_type": "code",
   "execution_count": 89,
   "metadata": {},
   "outputs": [
    {
     "data": {
      "text/html": [
       "<div>\n",
       "<style scoped>\n",
       "    .dataframe tbody tr th:only-of-type {\n",
       "        vertical-align: middle;\n",
       "    }\n",
       "\n",
       "    .dataframe tbody tr th {\n",
       "        vertical-align: top;\n",
       "    }\n",
       "\n",
       "    .dataframe thead th {\n",
       "        text-align: right;\n",
       "    }\n",
       "</style>\n",
       "<table border=\"1\" class=\"dataframe\">\n",
       "  <thead>\n",
       "    <tr style=\"text-align: right;\">\n",
       "      <th></th>\n",
       "      <th>id</th>\n",
       "      <th>is_crime_news</th>\n",
       "      <th>perpetrator_name</th>\n",
       "      <th>victim_name</th>\n",
       "      <th>state</th>\n",
       "      <th>perpetrator_last_name</th>\n",
       "      <th>perpetrator_first_name</th>\n",
       "    </tr>\n",
       "  </thead>\n",
       "  <tbody>\n",
       "    <tr>\n",
       "      <th>15</th>\n",
       "      <td>15</td>\n",
       "      <td>True</td>\n",
       "      <td>Dharmesh Patel</td>\n",
       "      <td>None</td>\n",
       "      <td>Illinois</td>\n",
       "      <td>Patel</td>\n",
       "      <td>Dharmesh</td>\n",
       "    </tr>\n",
       "    <tr>\n",
       "      <th>16</th>\n",
       "      <td>16</td>\n",
       "      <td>True</td>\n",
       "      <td>Vinicius Porto</td>\n",
       "      <td>23-year-old woman</td>\n",
       "      <td>New Jersey</td>\n",
       "      <td>Porto</td>\n",
       "      <td>Vinicius</td>\n",
       "    </tr>\n",
       "    <tr>\n",
       "      <th>24</th>\n",
       "      <td>24</td>\n",
       "      <td>True</td>\n",
       "      <td>Matt Lauer</td>\n",
       "      <td>Brooke Nevils</td>\n",
       "      <td>Russia</td>\n",
       "      <td>Lauer</td>\n",
       "      <td>Matt</td>\n",
       "    </tr>\n",
       "    <tr>\n",
       "      <th>31</th>\n",
       "      <td>31</td>\n",
       "      <td>True</td>\n",
       "      <td>Daniel Pantaleo</td>\n",
       "      <td>Eric Garner</td>\n",
       "      <td>New York</td>\n",
       "      <td>Pantaleo</td>\n",
       "      <td>Daniel</td>\n",
       "    </tr>\n",
       "    <tr>\n",
       "      <th>33</th>\n",
       "      <td>33</td>\n",
       "      <td>True</td>\n",
       "      <td>Angelo Nesimi</td>\n",
       "      <td>Michael Stewart</td>\n",
       "      <td>New York</td>\n",
       "      <td>Nesimi</td>\n",
       "      <td>Angelo</td>\n",
       "    </tr>\n",
       "    <tr>\n",
       "      <th>...</th>\n",
       "      <td>...</td>\n",
       "      <td>...</td>\n",
       "      <td>...</td>\n",
       "      <td>...</td>\n",
       "      <td>...</td>\n",
       "      <td>...</td>\n",
       "      <td>...</td>\n",
       "    </tr>\n",
       "    <tr>\n",
       "      <th>19964</th>\n",
       "      <td>19964</td>\n",
       "      <td>True</td>\n",
       "      <td>Brinelle Nabors</td>\n",
       "      <td>Park High School student</td>\n",
       "      <td>Wisconsin</td>\n",
       "      <td>Nabors</td>\n",
       "      <td>Brinelle</td>\n",
       "    </tr>\n",
       "    <tr>\n",
       "      <th>19969</th>\n",
       "      <td>19969</td>\n",
       "      <td>True</td>\n",
       "      <td>Jake Patterson</td>\n",
       "      <td>Jayme Closs</td>\n",
       "      <td>Wisconsin</td>\n",
       "      <td>Patterson</td>\n",
       "      <td>Jake</td>\n",
       "    </tr>\n",
       "    <tr>\n",
       "      <th>19975</th>\n",
       "      <td>19975</td>\n",
       "      <td>True</td>\n",
       "      <td>Dmitriy N. Andreychenko</td>\n",
       "      <td>None</td>\n",
       "      <td>Missouri</td>\n",
       "      <td>Andreychenko</td>\n",
       "      <td>Dmitriy</td>\n",
       "    </tr>\n",
       "    <tr>\n",
       "      <th>19983</th>\n",
       "      <td>19983</td>\n",
       "      <td>True</td>\n",
       "      <td>David Terrell</td>\n",
       "      <td>Pedro Hernandez</td>\n",
       "      <td>New York</td>\n",
       "      <td>Terrell</td>\n",
       "      <td>David</td>\n",
       "    </tr>\n",
       "    <tr>\n",
       "      <th>19989</th>\n",
       "      <td>19989</td>\n",
       "      <td>True</td>\n",
       "      <td>Delavan man</td>\n",
       "      <td>uncle</td>\n",
       "      <td>Wisconsin</td>\n",
       "      <td>man</td>\n",
       "      <td>Delavan</td>\n",
       "    </tr>\n",
       "  </tbody>\n",
       "</table>\n",
       "<p>3702 rows × 7 columns</p>\n",
       "</div>"
      ],
      "text/plain": [
       "          id is_crime_news         perpetrator_name               victim_name  \\\n",
       "15        15          True           Dharmesh Patel                      None   \n",
       "16        16          True           Vinicius Porto         23-year-old woman   \n",
       "24        24          True               Matt Lauer             Brooke Nevils   \n",
       "31        31          True          Daniel Pantaleo               Eric Garner   \n",
       "33        33          True            Angelo Nesimi           Michael Stewart   \n",
       "...      ...           ...                      ...                       ...   \n",
       "19964  19964          True          Brinelle Nabors  Park High School student   \n",
       "19969  19969          True           Jake Patterson               Jayme Closs   \n",
       "19975  19975          True  Dmitriy N. Andreychenko                      None   \n",
       "19983  19983          True            David Terrell           Pedro Hernandez   \n",
       "19989  19989          True              Delavan man                     uncle   \n",
       "\n",
       "            state perpetrator_last_name perpetrator_first_name  \n",
       "15       Illinois                 Patel               Dharmesh  \n",
       "16     New Jersey                 Porto               Vinicius  \n",
       "24         Russia                 Lauer                   Matt  \n",
       "31       New York              Pantaleo                 Daniel  \n",
       "33       New York                Nesimi                 Angelo  \n",
       "...           ...                   ...                    ...  \n",
       "19964   Wisconsin                Nabors               Brinelle  \n",
       "19969   Wisconsin             Patterson                   Jake  \n",
       "19975    Missouri          Andreychenko                Dmitriy  \n",
       "19983    New York               Terrell                  David  \n",
       "19989   Wisconsin                   man                Delavan  \n",
       "\n",
       "[3702 rows x 7 columns]"
      ]
     },
     "execution_count": 89,
     "metadata": {},
     "output_type": "execute_result"
    }
   ],
   "source": [
    "res_df[~res_df[\"perpetrator_last_name\"].isna()]"
   ]
  },
  {
   "cell_type": "code",
   "execution_count": null,
   "metadata": {},
   "outputs": [
    {
     "data": {
      "text/plain": [
       "np.float64(0.0952)"
      ]
     },
     "execution_count": 137,
     "metadata": {},
     "output_type": "execute_result"
    }
   ],
   "source": [
    "res_df[\"perpetrator_name\"].drop_duplicates().notna().sum()/20000"
   ]
  },
  {
   "cell_type": "code",
   "execution_count": 140,
   "metadata": {},
   "outputs": [
    {
     "data": {
      "text/plain": [
       "np.float64(0.1069)"
      ]
     },
     "execution_count": 140,
     "metadata": {},
     "output_type": "execute_result"
    }
   ],
   "source": [
    "res_df[\"victim_name\"].drop_duplicates().notna().sum()/20000"
   ]
  },
  {
   "cell_type": "code",
   "execution_count": null,
   "metadata": {},
   "outputs": [
    {
     "data": {
      "text/plain": [
       "np.int64(4957)"
      ]
     },
     "execution_count": 88,
     "metadata": {},
     "output_type": "execute_result"
    }
   ],
   "source": [
    "# exact match merge\n",
    "(~names_df.merge(res_df, left_on=[\"last_name\", \"first_name\"], right_on=[\"perpetrator_last_name\", \"perpetrator_first_name\"], how=\"left\").id.isna()).sum()\n"
   ]
  },
  {
   "cell_type": "code",
   "execution_count": 124,
   "metadata": {},
   "outputs": [],
   "source": [
    "names_df_merged = names_df.merge(res_df, left_on=[\"last_name\", \"first_name\"], right_on=[\"perpetrator_last_name\", \"perpetrator_first_name\"], how=\"left\")"
   ]
  },
  {
   "cell_type": "code",
   "execution_count": 125,
   "metadata": {},
   "outputs": [
    {
     "data": {
      "text/plain": [
       "np.int64(908)"
      ]
     },
     "execution_count": 125,
     "metadata": {},
     "output_type": "execute_result"
    }
   ],
   "source": [
    "names_df_merged[names_df_merged.id.notna()]\n",
    "names_df_merged.drop_duplicates(subset=\"id\").id.notna().sum()\n",
    "# this is more than there are reports about crimes. The middle names seem to matter as well "
   ]
  },
  {
   "cell_type": "code",
   "execution_count": null,
   "metadata": {},
   "outputs": [
    {
     "data": {
      "text/plain": [
       "np.float64(0.24527282549972987)"
      ]
     },
     "execution_count": 126,
     "metadata": {},
     "output_type": "execute_result"
    }
   ],
   "source": [
    "908/res_df.perpetrator_name.notna().sum()"
   ]
  },
  {
   "cell_type": "code",
   "execution_count": 95,
   "metadata": {},
   "outputs": [],
   "source": [
    "res_df[\"perpetrator_middle_name\"]= res_df[\"perpetrator_name\"].apply(lambda x: \" \".join(x.split(\" \")[1:-1]) if (x is not None and len(x.split(\" \")) > 2) else None)\n",
    "res_df[\"perpetrator_middle_name\"]= res_df[\"perpetrator_middle_name\"].str.removesuffix(\".\")"
   ]
  },
  {
   "cell_type": "code",
   "execution_count": null,
   "metadata": {},
   "outputs": [
    {
     "data": {
      "text/plain": [
       "np.int64(1150)"
      ]
     },
     "execution_count": 97,
     "metadata": {},
     "output_type": "execute_result"
    }
   ],
   "source": [
    "(~names_df.merge(res_df, left_on=[\"last_name\", \"first_name\", \"middle_name\"], right_on=[\"perpetrator_last_name\", \"perpetrator_first_name\", \"perpetrator_middle_name\"], how=\"left\").id.isna()).sum()\n",
    "# even then a third of the names matched exactly"
   ]
  },
  {
   "cell_type": "code",
   "execution_count": 98,
   "metadata": {},
   "outputs": [],
   "source": [
    "names_df_merged = names_df.merge(res_df, left_on=[\"last_name\", \"first_name\", \"middle_name\"], right_on=[\"perpetrator_last_name\", \"perpetrator_first_name\", \"perpetrator_middle_name\"], how=\"left\")"
   ]
  },
  {
   "cell_type": "code",
   "execution_count": 123,
   "metadata": {},
   "outputs": [
    {
     "data": {
      "text/plain": [
       "np.int64(394)"
      ]
     },
     "execution_count": 123,
     "metadata": {},
     "output_type": "execute_result"
    }
   ],
   "source": [
    "names_df_merged.drop_duplicates(subset=\"id\").id.notna().sum()"
   ]
  }
 ],
 "metadata": {
  "kernelspec": {
   "display_name": "newscatchervenv",
   "language": "python",
   "name": "python3"
  },
  "language_info": {
   "codemirror_mode": {
    "name": "ipython",
    "version": 3
   },
   "file_extension": ".py",
   "mimetype": "text/x-python",
   "name": "python",
   "nbconvert_exporter": "python",
   "pygments_lexer": "ipython3",
   "version": "3.12.7"
  }
 },
 "nbformat": 4,
 "nbformat_minor": 2
}
